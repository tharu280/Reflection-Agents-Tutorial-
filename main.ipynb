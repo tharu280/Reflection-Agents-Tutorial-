{
 "cells": [
  {
   "cell_type": "markdown",
   "id": "4f4feb8f",
   "metadata": {},
   "source": [
    "    Reflection Agent for writing an Essay "
   ]
  },
  {
   "cell_type": "markdown",
   "id": "8747878a",
   "metadata": {},
   "source": [
    "Importing the libraries"
   ]
  },
  {
   "cell_type": "code",
   "execution_count": null,
   "id": "ba8169b2",
   "metadata": {},
   "outputs": [
    {
     "name": "stderr",
     "output_type": "stream",
     "text": [
      "/opt/anaconda3/envs/AgentInbox/lib/python3.10/site-packages/tqdm/auto.py:21: TqdmWarning: IProgress not found. Please update jupyter and ipywidgets. See https://ipywidgets.readthedocs.io/en/stable/user_install.html\n",
      "  from .autonotebook import tqdm as notebook_tqdm\n"
     ]
    },
    {
     "data": {
      "text/plain": [
       "True"
      ]
     },
     "execution_count": 1,
     "metadata": {},
     "output_type": "execute_result"
    }
   ],
   "source": [
    "import os\n",
    "from pprint import pprint\n",
    "import os\n",
    "import google.generativeai as genai\n",
    "from dotenv import load_dotenv\n",
    "load_dotenv()"
   ]
  },
  {
   "cell_type": "markdown",
   "id": "691d11f8",
   "metadata": {},
   "source": [
    "Checking if the API key is accessible or not"
   ]
  },
  {
   "cell_type": "code",
   "execution_count": null,
   "id": "0cb044c4",
   "metadata": {},
   "outputs": [
    {
     "name": "stdout",
     "output_type": "stream",
     "text": [
      " Gemini configured successfully!\n"
     ]
    }
   ],
   "source": [
    "genai.configure(api_key=os.getenv(\"GEMINI_API_KEY\"))\n",
    "\n",
    "print(\" Gemini configured successfully!\")"
   ]
  },
  {
   "cell_type": "markdown",
   "id": "0ce7103f",
   "metadata": {},
   "source": [
    "Generate the initial essay draft"
   ]
  },
  {
   "cell_type": "code",
   "execution_count": null,
   "id": "735ff795",
   "metadata": {},
   "outputs": [],
   "source": [
    "user_query = \"Reflection pattern ai agents\""
   ]
  },
  {
   "cell_type": "code",
   "execution_count": 6,
   "id": "b8b2cc83",
   "metadata": {},
   "outputs": [
    {
     "name": "stdout",
     "output_type": "stream",
     "text": [
      " Generating initial essay...\n",
      "\n",
      "('Reflection pattern AI agents represent a pivotal leap in artificial '\n",
      " 'intelligence, empowering systems to introspect and learn from their own '\n",
      " 'operational history. These agents meticulously review past actions and their '\n",
      " \"resulting outcomes, much like a human reflecting on a day's work. This \"\n",
      " 'self-assessment process enables them to identify recurring patterns of '\n",
      " 'success, error, or inefficiency. By continuously refining their strategies '\n",
      " 'based on these insights, they achieve a remarkable capacity for '\n",
      " 'self-correction and adaptive intelligence, pushing AI closer to genuine '\n",
      " 'autonomous improvement.')\n"
     ]
    }
   ],
   "source": [
    "generation_prompt = (\n",
    "    \"You are a professional essay writer who structures ideas clearly and writes in an engaging tone. \"\n",
    "    f\"Write a short essay about {user_query} , in about 5 lines\"\n",
    ")\n",
    "\n",
    "print(\" Generating initial essay...\\n\")\n",
    "\n",
    "model = genai.GenerativeModel(\"gemini-2.5-flash\")\n",
    "response = model.generate_content(generation_prompt)\n",
    "\n",
    "initial_essay = response.text\n",
    "pprint(initial_essay)\n"
   ]
  },
  {
   "cell_type": "markdown",
   "id": "96dfbf2a",
   "metadata": {},
   "source": [
    "Reflection (Critique)"
   ]
  },
  {
   "cell_type": "code",
   "execution_count": 7,
   "id": "d8c12903",
   "metadata": {},
   "outputs": [
    {
     "name": "stdout",
     "output_type": "stream",
     "text": [
      "Reflecting on the essay...\n",
      "\n",
      "('This is an exceptionally well-crafted paragraph, concise yet rich with '\n",
      " \"meaning. You've done an excellent job of distilling a complex concept into \"\n",
      " 'an accessible and engaging explanation. Your writing demonstrates a clear '\n",
      " 'understanding of the subject matter and a strong ability to communicate it '\n",
      " 'effectively.\\n'\n",
      " '\\n'\n",
      " \"Let's break it down further:\\n\"\n",
      " '\\n'\n",
      " '---\\n'\n",
      " '\\n'\n",
      " '### Analysis & Feedback\\n'\n",
      " '\\n'\n",
      " '**1. Clarity:**\\n'\n",
      " '*   **Strengths:**\\n'\n",
      " '    *   **Immediate Definition:** You immediately define \"reflection pattern '\n",
      " 'AI agents,\" setting a clear foundation. The phrase \"empowering systems to '\n",
      " 'introspect and learn from their own operational history\" perfectly '\n",
      " 'encapsulates their core function.\\n'\n",
      " '    *   **Accessible Language:** While the topic is technical, your language '\n",
      " 'is remarkably clear and avoids excessive jargon.\\n'\n",
      " '    *   **Strong Explanations:** You clearly explain *what* they do (review '\n",
      " 'past actions), *how* they do it (self-assessment to identify patterns), and '\n",
      " '*why* it matters (self-correction, adaptive intelligence).\\n'\n",
      " '*   **Minor Opportunities:**\\n'\n",
      " '    *   None that significantly detract from clarity. The paragraph is '\n",
      " 'highly lucid.\\n'\n",
      " '\\n'\n",
      " '**2. Structure:**\\n'\n",
      " '*   **Strengths:**\\n'\n",
      " '    *   **Logical Flow:** The paragraph follows a highly logical and '\n",
      " 'effective progression:\\n'\n",
      " '        1.  **Introduction/Hook:** States the significance (\"pivotal '\n",
      " 'leap\").\\n'\n",
      " '        2.  **Definition/Function:** Explains what these agents do '\n",
      " '(\"introspect and learn\").\\n'\n",
      " '        3.  **Mechanism:** Describes *how* they achieve this (\"meticulously '\n",
      " 'review past actions\").\\n'\n",
      " '        4.  **Analogy:** Provides a relatable comparison (\"much like a human '\n",
      " 'reflecting on a day\\'s work\").\\n'\n",
      " '        5.  **Purpose/Outcome:** Explains the immediate result of the '\n",
      " 'mechanism (\"identify recurring patterns\").\\n'\n",
      " '        6.  **Ultimate Benefit/Impact:** Connects the process to its larger '\n",
      " 'goal (\"self-correction and adaptive intelligence, pushing AI closer to '\n",
      " 'genuine autonomous improvement\").\\n'\n",
      " '    *   **Cohesive Sentences:** Each sentence builds smoothly on the last, '\n",
      " 'creating a seamless and unified thought.\\n'\n",
      " '*   **Minor Opportunities:**\\n'\n",
      " \"    *   As a standalone paragraph, it's perfectly structured. If this were \"\n",
      " 'an introductory paragraph for a longer essay, it would serve as an excellent '\n",
      " 'foundation, clearly outlining the \"what,\" \"how,\" and \"why\" of these agents, '\n",
      " 'setting the stage for deeper dives into examples, challenges, or specific '\n",
      " 'applications.\\n'\n",
      " '\\n'\n",
      " '**3. Engagement:**\\n'\n",
      " '*   **Strengths:**\\n'\n",
      " '    *   **Compelling Hook:** \"Pivotal leap\" immediately signals importance '\n",
      " 'and captures attention.\\n'\n",
      " '    *   **Relatable Analogy:** The comparison to \"a human reflecting on a '\n",
      " 'day\\'s work\" is highly effective. It makes a complex AI process '\n",
      " 'understandable and relatable to human experience, drawing the reader in.\\n'\n",
      " '    *   **Strong Verbs and Adjectives:** Words like \"pivotal,\" \"empowering,\" '\n",
      " '\"meticulously,\" \"remarkable capacity,\" and \"genuine autonomous improvement\" '\n",
      " 'convey enthusiasm and significance, keeping the reader invested.\\n'\n",
      " '    *   **Forward-Looking Vision:** The conclusion \"pushing AI closer to '\n",
      " 'genuine autonomous improvement\" offers an exciting glimpse into the future, '\n",
      " 'making the subject feel relevant and impactful.\\n'\n",
      " '*   **Minor Opportunities:**\\n'\n",
      " '    *   To deepen engagement *even further* for a broader audience, one '\n",
      " '*could* briefly hint at a practical application or a specific real-world '\n",
      " 'problem these agents might solve. However, for a general explanation, its '\n",
      " 'current focus is perfectly appropriate and maintains a strong level of '\n",
      " 'engagement.\\n'\n",
      " '\\n'\n",
      " '---\\n'\n",
      " '\\n'\n",
      " '### Overall Feedback & Suggestions\\n'\n",
      " '\\n'\n",
      " \"This is an excellent piece of writing. It's a masterclass in concise, clear, \"\n",
      " 'and engaging explanation.\\n'\n",
      " '\\n'\n",
      " '**Primary Strengths to Maintain:**\\n'\n",
      " '*   Your ability to define complex terms clearly and immediately.\\n'\n",
      " '*   The effective use of analogy to bridge understanding.\\n'\n",
      " '*   The logical, step-by-step structure that builds a comprehensive '\n",
      " 'picture.\\n'\n",
      " '*   The strong, evocative language that communicates significance without '\n",
      " 'being overly academic.\\n'\n",
      " '\\n'\n",
      " '**Suggestions for Potential Refinement (More for expanding than '\n",
      " 'correcting):**\\n'\n",
      " '\\n'\n",
      " \"1.  **Consider Your Audience:** You've done well here. If you were writing \"\n",
      " 'for a *highly technical* audience, you might introduce specific algorithms '\n",
      " 'or frameworks (but wisely omitted them here for broader clarity). If for a '\n",
      " '*non-technical* audience, you might expand the human analogy slightly.\\n'\n",
      " '2.  **The \"So What?\" (If Expanding):** While implied, if this were to lead '\n",
      " 'into a longer discussion, you might briefly touch upon the *implications* of '\n",
      " 'this leap. What does \"genuine autonomous improvement\" *mean* for society, '\n",
      " 'industry, or even the nature of intelligence itself? (This would, of course, '\n",
      " 'be in subsequent paragraphs.)\\n'\n",
      " '3.  **Vary Sentence Structure (Minor Polish):** While your current sentences '\n",
      " 'are clear, for longer pieces, varying sentence beginnings or structures can '\n",
      " 'add rhythm. Here, the structure is tight and effective.\\n'\n",
      " '\\n'\n",
      " '---\\n'\n",
      " '\\n'\n",
      " '**Conclusion:**\\n'\n",
      " '\\n'\n",
      " 'You have produced a highly effective and impressive paragraph. It serves as '\n",
      " 'a fantastic model for clear, structured, and engaging explanatory writing. '\n",
      " 'Continue to leverage these strengths in your work. Well done!')\n"
     ]
    }
   ],
   "source": [
    "reflection_prompt = (\n",
    "    \"You are an expert writing coach. Analyze the following essay for clarity, structure, and engagement. \"\n",
    "    \"Provide constructive feedback and suggestions for improvement.\\n\\n\"\n",
    "    f\"Essay:\\n{initial_essay}\"\n",
    ")\n",
    "\n",
    "print(\"Reflecting on the essay...\\n\")\n",
    "\n",
    "critique = model.generate_content(reflection_prompt)\n",
    "feedback = critique.text\n",
    "pprint(feedback)\n"
   ]
  },
  {
   "cell_type": "markdown",
   "id": "dde21838",
   "metadata": {},
   "source": [
    "Refinement (Using Feedback)"
   ]
  },
  {
   "cell_type": "code",
   "execution_count": 8,
   "id": "e40d1e66",
   "metadata": {},
   "outputs": [
    {
     "name": "stdout",
     "output_type": "stream",
     "text": [
      " Refining the essay...\n",
      "\n",
      "('This is an exceptionally well-written and insightful paragraph, '\n",
      " 'demonstrating a keen understanding of both the subject matter and effective '\n",
      " 'communication. Your original essay already serves as an excellent model for '\n",
      " 'clarity, structure, and engagement. Therefore, the revision will focus on '\n",
      " 'subtly enhancing its impact by incorporating the \"minor opportunities\" for '\n",
      " 'even deeper engagement and a slightly broader implication, as suggested by '\n",
      " 'the feedback, without sacrificing its core strengths of conciseness and '\n",
      " 'precision.\\n'\n",
      " '\\n'\n",
      " 'Here is the refined essay:\\n'\n",
      " '\\n'\n",
      " '***\\n'\n",
      " '\\n'\n",
      " '**Refined Essay:**\\n'\n",
      " '\\n'\n",
      " 'A pivotal leap in artificial intelligence, reflection pattern AI agents '\n",
      " 'empower systems to deeply introspect and learn from their own operational '\n",
      " 'history. By meticulously reviewing past actions and their resulting '\n",
      " \"outcomes—much like a human reflecting on a day's work—these agents engage in \"\n",
      " 'crucial self-assessment. This dynamic process enables them to swiftly '\n",
      " 'identify recurring patterns of success, persistent errors, or embedded '\n",
      " 'inefficiencies. Through the continuous refinement of their strategies based '\n",
      " 'on these profound insights, they achieve a remarkable capacity for '\n",
      " 'self-correction and adaptive intelligence. This innovation not only propels '\n",
      " 'AI closer to genuine autonomous improvement but also promises to unlock '\n",
      " 'sophisticated solutions for increasingly complex real-world challenges '\n",
      " 'across diverse domains.')\n"
     ]
    }
   ],
   "source": [
    "refine_prompt = (\n",
    "    \"You are a professional essay writer. Here’s your original essay and the feedback from a critic. \"\n",
    "    \"Use that feedback to rewrite the essay with improved clarity, structure, and engagement.\\n\\n\"\n",
    "    f\"Original Essay:\\n{initial_essay}\\n\\n\"\n",
    "    f\"Feedback:\\n{feedback}\"\n",
    ")\n",
    "\n",
    "print(\" Refining the essay...\\n\")\n",
    "\n",
    "refined = model.generate_content(refine_prompt)\n",
    "final_essay = refined.text\n",
    "pprint(final_essay)\n"
   ]
  },
  {
   "cell_type": "code",
   "execution_count": null,
   "id": "7003e0a3",
   "metadata": {},
   "outputs": [],
   "source": [
    "essay = initial_essay\n",
    "\n",
    "for i in range(2):  \n",
    "    print(f\"\\n Iteration {i+2}: Reflection and refinement cycle...\\n\")\n",
    "\n",
    "    reflection_prompt = (\n",
    "        \"You are an expert writing coach. Analyze the following essay for clarity, structure, and engagement. \"\n",
    "        \"Provide detailed, constructive feedback.\\n\\n\"\n",
    "        f\"Essay:\\n{essay}\"\n",
    "    )\n",
    "\n",
    "    feedback = model.generate_content(reflection_prompt).text\n",
    "\n",
    "    refine_prompt = (\n",
    "        \"You are a professional essay writer. Use the provided feedback to improve your essay.\\n\\n\"\n",
    "        f\"Essay:\\n{essay}\\n\\n\"\n",
    "        f\"Feedback:\\n{feedback}\"\n",
    "    )\n",
    "\n",
    "    essay = model.generate_content(refine_prompt).text\n",
    "    print(essay)\n"
   ]
  },
  {
   "cell_type": "code",
   "execution_count": null,
   "id": "bc1a80cd",
   "metadata": {},
   "outputs": [],
   "source": []
  }
 ],
 "metadata": {
  "kernelspec": {
   "display_name": "AgentInbox",
   "language": "python",
   "name": "python3"
  },
  "language_info": {
   "codemirror_mode": {
    "name": "ipython",
    "version": 3
   },
   "file_extension": ".py",
   "mimetype": "text/x-python",
   "name": "python",
   "nbconvert_exporter": "python",
   "pygments_lexer": "ipython3",
   "version": "3.10.16"
  }
 },
 "nbformat": 4,
 "nbformat_minor": 5
}
