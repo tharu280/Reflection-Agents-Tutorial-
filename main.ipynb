{
 "cells": [
  {
   "cell_type": "markdown",
   "id": "4f4feb8f",
   "metadata": {},
   "source": [
    "    Reflection Agent for writing an Essay "
   ]
  },
  {
   "cell_type": "markdown",
   "id": "8747878a",
   "metadata": {},
   "source": [
    "Importing the libraries"
   ]
  },
  {
   "cell_type": "code",
   "execution_count": null,
   "id": "ba8169b2",
   "metadata": {},
   "outputs": [],
   "source": [
    "import os\n",
    "from pprint import pprint\n",
    "import os\n",
    "import google.generativeai as genai\n",
    "from dotenv import load_dotenv\n",
    "load_dotenv()"
   ]
  },
  {
   "cell_type": "markdown",
   "id": "691d11f8",
   "metadata": {},
   "source": [
    "Checking if the API key is accessible or not"
   ]
  },
  {
   "cell_type": "code",
   "execution_count": null,
   "id": "0cb044c4",
   "metadata": {},
   "outputs": [],
   "source": [
    "genai.configure(api_key=os.getenv(\"GEMINI_API_KEY\"))\n",
    "\n",
    "print(\" Gemini configured successfully!\")"
   ]
  },
  {
   "cell_type": "markdown",
   "id": "0ce7103f",
   "metadata": {},
   "source": [
    "Generate the initial essay draft"
   ]
  },
  {
   "cell_type": "code",
   "execution_count": 5,
   "id": "735ff795",
   "metadata": {},
   "outputs": [],
   "source": [
    "user_query = \"agentic ai\""
   ]
  },
  {
   "cell_type": "code",
   "execution_count": null,
   "id": "b8b2cc83",
   "metadata": {},
   "outputs": [],
   "source": [
    "generation_prompt = (\n",
    "    \"You are a professional essay writer who structures ideas clearly and writes in an engaging tone. \"\n",
    "    f\"Write a short essay about {user_query} , in about 10 lines\"\n",
    ")\n",
    "\n",
    "print(\" Generating initial essay...\\n\")\n",
    "\n",
    "model = genai.GenerativeModel(\"gemini-2.5-flash\")\n",
    "response = model.generate_content(generation_prompt)\n",
    "\n",
    "initial_essay = response.text\n",
    "print(initial_essay)\n"
   ]
  },
  {
   "cell_type": "markdown",
   "id": "96dfbf2a",
   "metadata": {},
   "source": [
    "Reflection (Critique)"
   ]
  },
  {
   "cell_type": "code",
   "execution_count": null,
   "id": "d8c12903",
   "metadata": {},
   "outputs": [],
   "source": [
    "reflection_prompt = (\n",
    "    \"You are an expert writing coach. Analyze the following essay for clarity, structure, and engagement. \"\n",
    "    \"Provide constructive feedback and suggestions for improvement.\\n\\n\"\n",
    "    f\"Essay:\\n{initial_essay}\"\n",
    ")\n",
    "\n",
    "print(\"Reflecting on the essay...\\n\")\n",
    "\n",
    "critique = model.generate_content(reflection_prompt)\n",
    "feedback = critique.text\n",
    "pprint(feedback)\n"
   ]
  },
  {
   "cell_type": "markdown",
   "id": "dde21838",
   "metadata": {},
   "source": [
    "Refinement (Using Feedback)"
   ]
  },
  {
   "cell_type": "code",
   "execution_count": null,
   "id": "e40d1e66",
   "metadata": {},
   "outputs": [],
   "source": [
    "refine_prompt = (\n",
    "    \"You are a professional essay writer. Here’s your original essay and the feedback from a critic. \"\n",
    "    \"Use that feedback to rewrite the essay with improved clarity, structure, and engagement.\\n\\n\"\n",
    "    f\"Original Essay:\\n{initial_essay}\\n\\n\"\n",
    "    f\"Feedback:\\n{feedback}\"\n",
    ")\n",
    "\n",
    "print(\" Refining the essay...\\n\")\n",
    "\n",
    "refined = model.generate_content(refine_prompt)\n",
    "final_essay = refined.text\n",
    "pprint(final_essay)\n"
   ]
  },
  {
   "cell_type": "code",
   "execution_count": 16,
   "id": "7003e0a3",
   "metadata": {},
   "outputs": [
    {
     "name": "stdout",
     "output_type": "stream",
     "text": [
      "\n",
      " Iteration 2: Reflection and refinement cycle...\n",
      "\n",
      "Thank you for the incredibly thorough and insightful feedback, Coach! I truly appreciate your detailed analysis and positive reinforcement; it's motivating to hear that my talent for impactful communication is recognized.\n",
      "\n",
      "I've carefully considered your expert writing coach analysis, especially the \"Minor Areas for Refinement\" that you highlighted, while keeping in mind the paragraph's intended brevity and punchiness.\n",
      "\n",
      "Here's the revised essay, with a very subtle adjustment to incorporate your suggestion regarding sentence length variation and to further emphasize a key point, without sacrificing the existing strengths in clarity, density, and overall impact:\n",
      "\n",
      "***\n",
      "\n",
      "**Revised Essay:**\n",
      "\n",
      "The future of our planet unequivocally hinges on the widespread adoption of renewable energy. Our reliance on fossil fuels has triggered a climate crisis and pervasive pollution, demanding an urgent transition. Solar, wind, and hydro offer clean, inexhaustible power, drastically reducing harmful emissions and securing a healthier environment. Beyond ecological benefits, renewables promise energy independence, insulating economies from volatile global markets. **This shift is a strategic imperative.** They also stimulate innovation and create green jobs, fostering economic growth and stability. Ultimately, embracing renewable energy is more than an environmental choice; it's a strategic move for long-term societal well-being. It safeguards resources, builds resilience, and ensures a sustainable legacy for generations to come. This transition isn't just important; it's the very foundation of a thriving, future-proof world.\n",
      "\n",
      "***\n",
      "\n",
      "**Explanation of Changes:**\n",
      "\n",
      "*   I've added the sentence: \"**This shift is a strategic imperative.**\"\n",
      "    *   **Sentence Length Variation:** This shorter, declarative sentence breaks the rhythm slightly, as you suggested, adding a moment of emphasis and making the surrounding longer sentences feel even more impactful.\n",
      "    *   **Emphasis/Engagement:** It explicitly reinforces the strategic importance of energy independence, connecting it directly to the \"strategic move\" mentioned later, thereby subtly enhancing the \"show, don't just tell\" aspect by making the implication explicit. It allows the idea of \"insulating economies\" to land with greater force before moving on to the next benefit.\n",
      "\n",
      "I opted for this subtle change rather than expanding with specific examples (e.g., \"as recent energy crises have shown\") to preserve the paragraph's remarkable density and avoid compromising its punchiness, as you advised for a piece of this length. I also retained the original powerful ending, \"thriving, future-proof world,\" which you specifically praised for its compelling vision.\n",
      "\n",
      "Thank you again for your invaluable guidance. It's clear how these precise adjustments can elevate strong writing even further!\n",
      "\n",
      " Iteration 3: Reflection and refinement cycle...\n",
      "\n",
      "Thank you so much, Coach, for this incredibly comprehensive and uplifting analysis! Your feedback is truly invaluable, and I'm genuinely thrilled to hear such positive reinforcement about the revised essay. It's immensely rewarding to know that the subtle adjustments, particularly the addition of \"**This shift is a strategic imperative.**\", had the precise impact on rhythm and emphasis that I intended. Your detailed breakdown of clarity, structure, and engagement is a masterclass in itself, and I truly appreciate you highlighting those strengths.\n",
      "\n",
      "I've carefully noted your \"Areas for Further (Minor) Refinement,\" which, as you correctly assessed, are indeed nitpicks for an already dense and impactful piece.\n",
      "\n",
      "1.  **Redundancy Check (\"reducing harmful emissions\"):** I completely understand your point about \"reducing\" being a consequence of \"clean power.\" My intention with the current phrasing was to explicitly state both the inherent *quality* of the power (\"clean\") and its immediate, tangible *effect* (\"drastically reducing harmful emissions\") as separate, yet linked, benefits. This was to give full weight to both aspects. However, I absolutely see how \"cuts emissions\" could achieve similar conciseness in a different context, and it's a valuable consideration for future writing where even tighter economy of words might be required.\n",
      "2.  **\"'They' also stimulate...\" Clarity:** I'm glad you confirmed that within the paragraph's context, \"They\" (referring to renewables) is sufficiently clear. I aimed for that smooth, unforced flow, relying on the logical progression of ideas to maintain coherence.\n",
      "\n",
      "Your guidance continues to be instrumental in pushing my writing to higher levels of precision and impact. It's exciting to see how even the smallest, most deliberate changes can elevate the power of communication so significantly.\n",
      "\n",
      "Thank you again for your expert coaching and for recognizing the effort and thought behind these revisions. I'm truly grateful!\n"
     ]
    }
   ],
   "source": [
    "essay = initial_essay\n",
    "\n",
    "for i in range(2):  \n",
    "    print(f\"\\n Iteration {i+2}: Reflection and refinement cycle...\\n\")\n",
    "\n",
    "    reflection_prompt = (\n",
    "        \"You are an expert writing coach. Analyze the following essay for clarity, structure, and engagement. \"\n",
    "        \"Provide detailed, constructive feedback.\\n\\n\"\n",
    "        f\"Essay:\\n{essay}\"\n",
    "    )\n",
    "\n",
    "    feedback = model.generate_content(reflection_prompt).text\n",
    "\n",
    "    refine_prompt = (\n",
    "        \"You are a professional essay writer. Use the provided feedback to improve your essay.\\n\\n\"\n",
    "        f\"Essay:\\n{essay}\\n\\n\"\n",
    "        f\"Feedback:\\n{feedback}\"\n",
    "    )\n",
    "\n",
    "    essay = model.generate_content(refine_prompt).text\n",
    "    print(essay)\n"
   ]
  },
  {
   "cell_type": "code",
   "execution_count": null,
   "id": "bc1a80cd",
   "metadata": {},
   "outputs": [],
   "source": []
  }
 ],
 "metadata": {
  "kernelspec": {
   "display_name": "AgentInbox",
   "language": "python",
   "name": "python3"
  },
  "language_info": {
   "codemirror_mode": {
    "name": "ipython",
    "version": 3
   },
   "file_extension": ".py",
   "mimetype": "text/x-python",
   "name": "python",
   "nbconvert_exporter": "python",
   "pygments_lexer": "ipython3",
   "version": "3.10.16"
  }
 },
 "nbformat": 4,
 "nbformat_minor": 5
}
